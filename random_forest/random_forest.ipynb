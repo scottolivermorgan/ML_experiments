{
 "cells": [
  {
   "cell_type": "code",
   "execution_count": 1,
   "metadata": {},
   "outputs": [],
   "source": [
    "import os\n",
    "import sys\n",
    "\n",
    "import pandas as pd\n",
    "\n",
    "from sklearn.ensemble import RandomForestRegressor\n",
    "from sklearn.model_selection import train_test_split\n",
    "from sklearn.metrics import mean_squared_error, r2_score\n",
    "\n",
    "# Add the parent directory to the Python path\n",
    "sys.path.append(os.path.abspath(os.path.join('..')))\n",
    "\n",
    "from helpers.helpers import load_and_prepare_csv"
   ]
  },
  {
   "cell_type": "code",
   "execution_count": 2,
   "metadata": {},
   "outputs": [],
   "source": [
    "TICKER = 'SQQQ'\n",
    "DATA_PATH = os.path.join('outputs', 'data', f'{TICKER}.csv')\n",
    "df = load_and_prepare_csv(DATA_PATH)\n"
   ]
  },
  {
   "cell_type": "code",
   "execution_count": 9,
   "metadata": {},
   "outputs": [
    {
     "name": "stdout",
     "output_type": "stream",
     "text": [
      "Mean Squared Error: 1215651.7844064785\n",
      "R^2 Score: 0.9998575133100885\n",
      "Predicted Future Price: 9.809600057601928\n"
     ]
    }
   ],
   "source": [
    "# Features and target\n",
    "X = df.drop(f'{TICKER}_CLOSE', axis=1)\n",
    "y = df[f'{TICKER}_CLOSE']\n",
    "\n",
    "# Splitting data into training and testing sets\n",
    "X_train, X_test, y_train, y_test = train_test_split(X, y, test_size=0.2, random_state=42)\n",
    "\n",
    "# Initializing the Random Forest Regressor\n",
    "rf = RandomForestRegressor(n_estimators=100, random_state=42)\n",
    "\n",
    "# Training the model\n",
    "rf.fit(X_train, y_train)\n",
    "\n",
    "# Making predictions\n",
    "y_pred = rf.predict(X_test)\n",
    "\n",
    "# Evaluating the model\n",
    "mse = mean_squared_error(y_test, y_pred)\n",
    "r2 = r2_score(y_test, y_pred)\n",
    "\n",
    "print(f\"Mean Squared Error: {mse}\")\n",
    "print(f\"R^2 Score: {r2}\")\n",
    "\n",
    "# Predicting future prices\n",
    "# Ensure future_data is correctly formatted\n",
    "future_data = {col_name: [value] for col_name, value in df.iloc[-1].items()}\n",
    "\n",
    "# Create a DataFrame with the appropriate shape\n",
    "future_df = pd.DataFrame(future_data)\n",
    "\n",
    "# Make sure the future_df has the same columns as the training data\n",
    "future_df = future_df[X.columns]\n",
    "\n",
    "# Predict the future price\n",
    "future_price_pred = rf.predict(future_df)\n",
    "\n",
    "print(f\"Predicted Future Price: {future_price_pred[0]}\")\n"
   ]
  }
 ],
 "metadata": {
  "kernelspec": {
   "display_name": "venv",
   "language": "python",
   "name": "python3"
  },
  "language_info": {
   "codemirror_mode": {
    "name": "ipython",
    "version": 3
   },
   "file_extension": ".py",
   "mimetype": "text/x-python",
   "name": "python",
   "nbconvert_exporter": "python",
   "pygments_lexer": "ipython3",
   "version": "3.10.12"
  }
 },
 "nbformat": 4,
 "nbformat_minor": 2
}
